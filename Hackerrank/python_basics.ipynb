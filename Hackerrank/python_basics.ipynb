{
 "cells": [
  {
   "cell_type": "markdown",
   "metadata": {},
   "source": [
    "### Challenge No: 1 **Plus Minus**(Easy): \n",
    "- https://www.hackerrank.com/challenges/one-month-preparation-kit-plus-minus/problem?isFullScreen=true&h_l=interview&playlist_slugs%5B%5D=preparation-kits&playlist_slugs%5B%5D=one-month-preparation-kit&playlist_slugs%5B%5D=one-month-week-one\n",
    "- Given an array of integers, calculate the ratios of its elements that are positive, negative, and zero. Print the decimal value of each fraction on a new line with  places after the decimal.\n",
    "- Note: This challenge introduces precision problems. The test cases are scaled to six decimal places, though answers with absolute error of up  10 ** -4  are acceptable"
   ]
  },
  {
   "cell_type": "code",
   "execution_count": 18,
   "metadata": {},
   "outputs": [],
   "source": [
    "def plusMinus(arr):\n",
    "\n",
    "    count_pos = 0\n",
    "    count_neg = 0\n",
    "    count_zero = 0\n",
    "    for element in arr:\n",
    "        if element > 0:\n",
    "            count_pos += 1\n",
    "        elif element < 0:\n",
    "            count_neg += 1\n",
    "        else:\n",
    "            count_zero += 1\n",
    "    \n",
    "    \n",
    "\n",
    "    print(f\"{(count_pos/len(arr)):.6f}\")\n",
    "    print(f\"{(count_neg/len(arr)):.6f}\")\n",
    "    print(f\"{(count_zero/len(arr)):.6f}\")\n",
    "\n"
   ]
  },
  {
   "cell_type": "code",
   "execution_count": 19,
   "metadata": {},
   "outputs": [
    {
     "name": "stdout",
     "output_type": "stream",
     "text": [
      "0.400000\n",
      "0.400000\n",
      "0.200000\n"
     ]
    }
   ],
   "source": [
    "plusMinus([1,1,0,-1,-1])"
   ]
  },
  {
   "cell_type": "markdown",
   "metadata": {},
   "source": [
    "### Challenge No: 2 **MiniMaxSum**(Easy): \n",
    "- https://www.hackerrank.com/challenges/one-month-preparation-kit-mini-max-sum/problem?isFullScreen=true&h_l=interview&playlist_slugs%5B%5D=preparation-kits&playlist_slugs%5B%5D=one-month-preparation-kit&playlist_slugs%5B%5D=one-month-week-one\n",
    "- Given five positive integers, find the minimum and maximum values that can be calculated by summing exactly four of the five integers. Then print the respective minimum and maximum values as a single line of two space-separated long integers."
   ]
  },
  {
   "cell_type": "code",
   "execution_count": 1,
   "metadata": {},
   "outputs": [],
   "source": [
    "def miniMaxSum(arr):\n",
    "    print(f\"{sum(arr) - max(arr)} {sum(arr) - min(arr)}\") \n",
    "\n"
   ]
  },
  {
   "cell_type": "code",
   "execution_count": 2,
   "metadata": {},
   "outputs": [
    {
     "name": "stdout",
     "output_type": "stream",
     "text": [
      "16  24\n"
     ]
    }
   ],
   "source": [
    "arr =[1,3,5,7,9]\n",
    "miniMaxSum(arr)"
   ]
  },
  {
   "cell_type": "markdown",
   "metadata": {},
   "source": [
    "### Challenge No: 3 **Time Conversion**(Easy): \n",
    "- https://www.hackerrank.com/challenges/one-month-preparation-kit-time-conversion/problem?isFullScreen=true&h_l=interview&playlist_slugs%5B%5D=preparation-kits&playlist_slugs%5B%5D=one-month-preparation-kit&playlist_slugs%5B%5D=one-month-week-one\n",
    "- Given a time in -hour AM/PM format, convert it to military (24-hour) time.\n",
    "  Note: - 12:00:00AM on a 12-hour clock is 00:00:00 on a 24-hour clock.\n",
    "- 12:00:00PM on a 12-hour clock is 12:00:00 on a 24-hour clock.\n"
   ]
  },
  {
   "cell_type": "code",
   "execution_count": 54,
   "metadata": {},
   "outputs": [],
   "source": [
    "def timeConversion(s):\n",
    "    hour = s[:2]\n",
    "    if \"PM\" in s:\n",
    "        if hour != \"12\":\n",
    "            hour = str(int(hour)+12)\n",
    "    elif hour == \"12\":\n",
    "        hour = \"00\"\n",
    "\n",
    "    return hour + s[2:-2]\n",
    "       "
   ]
  },
  {
   "cell_type": "code",
   "execution_count": 55,
   "metadata": {},
   "outputs": [
    {
     "data": {
      "text/plain": [
       "('12:01:00', '00:01:00', '23:01:00', '01:01:00')"
      ]
     },
     "execution_count": 55,
     "metadata": {},
     "output_type": "execute_result"
    }
   ],
   "source": [
    "s1 = \"12:01:00PM\"\n",
    "s2 = \"12:01:00AM\"\n",
    "s3 = \"11:01:00PM\"\n",
    "s4 =\"01:01:00AM\"\n",
    "timeConversion(s1), timeConversion(s2), timeConversion(s3), timeConversion(s4)"
   ]
  },
  {
   "cell_type": "markdown",
   "metadata": {},
   "source": [
    "### Challenge No: 4 **Sparse Arrays**(Easy): \n",
    "- https://www.hackerrank.com/challenges/one-month-preparation-kit-sparse-arrays/problem?isFullScreen=true&h_l=interview&playlist_slugs%5B%5D=preparation-kits&playlist_slugs%5B%5D=one-month-preparation-kit&playlist_slugs%5B%5D=one-month-week-one\n",
    "- There is a collection of input strings and a collection of query strings. For each query string, determine how many times it occurs in the list of input strings. Return an array of the results.\n",
    "\n"
   ]
  },
  {
   "cell_type": "code",
   "execution_count": 57,
   "metadata": {},
   "outputs": [
    {
     "data": {
      "text/plain": [
       "[2, 1, 1]"
      ]
     },
     "execution_count": 57,
     "metadata": {},
     "output_type": "execute_result"
    }
   ],
   "source": [
    "def matchingStrings(strings, queries):\n",
    "    return [strings.count(text) for text in queries]\n",
    "matchingStrings([\"ab\", \"ab\", \"abc\", \"bc\"], [\"ab\", \"abc\", \"bc\"])\n",
    "    "
   ]
  },
  {
   "cell_type": "markdown",
   "metadata": {},
   "source": [
    "### Challenge No: 5 **Lonely Integer**(Easy): \n",
    "- https://www.hackerrank.com/challenges/one-month-preparation-kit-lonely-integer/problem?isFullScreen=true&h_l=interview&playlist_slugs%5B%5D=preparation-kits&playlist_slugs%5B%5D=one-month-preparation-kit&playlist_slugs%5B%5D=one-month-week-one\n",
    "- Given an array of integers, where all elements but one occur twice, find the unique element."
   ]
  },
  {
   "cell_type": "code",
   "execution_count": 59,
   "metadata": {},
   "outputs": [
    {
     "data": {
      "text/plain": [
       "4"
      ]
     },
     "execution_count": 59,
     "metadata": {},
     "output_type": "execute_result"
    }
   ],
   "source": [
    "def lonelyinteger(a):\n",
    "    for element in a:\n",
    "        if a.count(element) == 1:\n",
    "            return element\n",
    "lonelyinteger([1,2,3,4,3,2,1])"
   ]
  },
  {
   "cell_type": "markdown",
   "metadata": {},
   "source": [
    "### Challenge No: 6 **Flipping Bits**(Easy): \n",
    "- https://www.hackerrank.com/challenges/one-month-preparation-kit-flipping-bits/problem?isFullScreen=true&h_l=interview&playlist_slugs%5B%5D=preparation-kits&playlist_slugs%5B%5D=one-month-preparation-kit&playlist_slugs%5B%5D=one-month-week-one\n",
    "- You will be given a list of 32 bit unsigned integers. Flip all the bits (1 --> 0 0-->1 and ) and return the result as an unsigned integer.\n"
   ]
  },
  {
   "cell_type": "code",
   "execution_count": 90,
   "metadata": {},
   "outputs": [
    {
     "name": "stdout",
     "output_type": "stream",
     "text": [
      "01111111111111111111111111111101\n"
     ]
    },
    {
     "data": {
      "text/plain": [
       "2147483645"
      ]
     },
     "execution_count": 90,
     "metadata": {},
     "output_type": "execute_result"
    }
   ],
   "source": [
    "def flippingBits(n):\n",
    "    temp_binary = \"{:032b}\".format(n)\n",
    "    flipped_binary = \"\"\n",
    "\n",
    "    for digit in temp_binary:\n",
    "        if digit == \"0\":\n",
    "            flipped_binary += \"1\"\n",
    "\n",
    "        else:\n",
    "            flipped_binary += \"0\"\n",
    "    flipped_int = int(flipped_binary,2)\n",
    "\n",
    "    return flipped_int\n",
    "\n",
    "flippingBits(-2)"
   ]
  },
  {
   "cell_type": "markdown",
   "metadata": {},
   "source": [
    "### Challenge No: 7 **Diagonal Difference**(Easy): \n",
    "- https://www.hackerrank.com/challenges/one-month-preparation-kit-diagonal-difference/problem?isFullScreen=true&h_l=interview&playlist_slugs%5B%5D=preparation-kits&playlist_slugs%5B%5D=one-month-preparation-kit&playlist_slugs%5B%5D=one-month-week-one\n",
    "- Given a square matrix, calculate the absolute difference between the sums of its diagonals."
   ]
  },
  {
   "cell_type": "code",
   "execution_count": 89,
   "metadata": {},
   "outputs": [],
   "source": [
    "def diagonalDifference(arr):\n",
    "    n = len(arr)\n",
    "    left_to_right_sum = 0\n",
    "    right_to_left_sum = 0\n",
    "\n",
    "    for i in range(n):\n",
    "        left_to_right_sum += arr[i][i]\n",
    "        right_to_left_sum += arr[i][n - i - 1]\n",
    "\n",
    "    return abs(left_to_right_sum - right_to_left_sum)\n"
   ]
  },
  {
   "cell_type": "markdown",
   "metadata": {},
   "source": [
    "### Challenge No: 8 **Counting Sort**(Easy): \n",
    "- https://www.hackerrank.com/challenges/one-month-preparation-kit-countingsort1/problem?isFullScreen=true&h_l=interview&playlist_slugs%5B%5D=preparation-kits&playlist_slugs%5B%5D=one-month-preparation-kit&playlist_slugs%5B%5D=one-month-week-one\n",
    "- Given a list of integers, count and return the number of times each value appears as an array of integers. Returns int[100]: a frequency array"
   ]
  },
  {
   "cell_type": "code",
   "execution_count": 44,
   "metadata": {},
   "outputs": [],
   "source": [
    "def countingSort(arr):\n",
    "    result = [0] * 100\n",
    "    for i in range(len(arr)):\n",
    "        result[arr[i]] +=1\n",
    "    return result\n"
   ]
  },
  {
   "cell_type": "code",
   "execution_count": 43,
   "metadata": {},
   "outputs": [
    {
     "data": {
      "text/plain": [
       "[2,\n",
       " 0,\n",
       " 1,\n",
       " 0,\n",
       " 0,\n",
       " 1,\n",
       " 1,\n",
       " 1,\n",
       " 1,\n",
       " 0,\n",
       " 0,\n",
       " 1,\n",
       " 3,\n",
       " 2,\n",
       " 2,\n",
       " 0,\n",
       " 4,\n",
       " 4,\n",
       " 1,\n",
       " 1,\n",
       " 0,\n",
       " 0,\n",
       " 0,\n",
       " 0,\n",
       " 3,\n",
       " 0,\n",
       " 0,\n",
       " 1,\n",
       " 0,\n",
       " 1,\n",
       " 2,\n",
       " 0,\n",
       " 1,\n",
       " 2,\n",
       " 2,\n",
       " 3,\n",
       " 0,\n",
       " 2,\n",
       " 0,\n",
       " 0,\n",
       " 1,\n",
       " 0,\n",
       " 1,\n",
       " 1,\n",
       " 0,\n",
       " 0,\n",
       " 1,\n",
       " 1,\n",
       " 0,\n",
       " 2,\n",
       " 0,\n",
       " 0,\n",
       " 1,\n",
       " 1,\n",
       " 1,\n",
       " 0,\n",
       " 1,\n",
       " 0,\n",
       " 1,\n",
       " 1,\n",
       " 2,\n",
       " 3,\n",
       " 0,\n",
       " 1,\n",
       " 2,\n",
       " 0,\n",
       " 1,\n",
       " 2,\n",
       " 1,\n",
       " 1,\n",
       " 4,\n",
       " 1,\n",
       " 0,\n",
       " 1,\n",
       " 1,\n",
       " 3,\n",
       " 0,\n",
       " 0,\n",
       " 2,\n",
       " 1,\n",
       " 2,\n",
       " 3,\n",
       " 2,\n",
       " 2,\n",
       " 2,\n",
       " 0,\n",
       " 0,\n",
       " 1,\n",
       " 0,\n",
       " 0,\n",
       " 0,\n",
       " 0,\n",
       " 0,\n",
       " 0,\n",
       " 2,\n",
       " 0,\n",
       " 1,\n",
       " 3,\n",
       " 1,\n",
       " 0]"
      ]
     },
     "execution_count": 43,
     "metadata": {},
     "output_type": "execute_result"
    }
   ],
   "source": [
    "x = \"63 54 17 78 43 70 32 97 16 94 74 18 60 61 35 83 13 56 75 52 70 12 24 37 17 0 16 64 34 81 82 24 69 2 30 61 83 37 97 16 70 53 0 61 12 17 97 67 33 30 49 70 11 40 67 94 84 60 35 58 19 81 16 14 68 46 42 81 75 87 13 84 33 34 14 96 7 59 17 98 79 47 71 75 8 27 73 66 64 12 29 35 80 78 80 6 5 24 49 82\"\n",
    "y =x.split(\" \")\n",
    "z = [int(i) for i in y]\n",
    "countingSort(z)"
   ]
  },
  {
   "cell_type": "markdown",
   "metadata": {},
   "source": [
    "### Challenge No: 9 **Pangrams**(Easy): \n",
    "- https://www.hackerrank.com/challenges/one-month-preparation-kit-pangrams/problem?isFullScreen=true&h_l=interview&playlist_slugs%5B%5D=preparation-kits&playlist_slugs%5B%5D=one-month-preparation-kit&playlist_slugs%5B%5D=one-month-week-one\n",
    "- A pangram is a string that contains every letter of the alphabet. Given a sentence determine whether it is a pangram in the English alphabet. Return either pangram or not pangram as appropriate."
   ]
  },
  {
   "cell_type": "code",
   "execution_count": 52,
   "metadata": {},
   "outputs": [],
   "source": [
    "def pangrams(s):\n",
    "\n",
    "    import string\n",
    "\n",
    "    abc = list(string.ascii_lowercase)\n",
    "    lowered_s = s.lower()\n",
    "    if all(lowered_s.count(char) >= 1 for char in abc):\n",
    "        return \"Pangram\"\n",
    "    else:\n",
    "        return \"Not Pangram\"\n",
    "\n"
   ]
  },
  {
   "cell_type": "code",
   "execution_count": 55,
   "metadata": {},
   "outputs": [
    {
     "data": {
      "text/plain": [
       "('Pangram', 'Not Pangram')"
      ]
     },
     "execution_count": 55,
     "metadata": {},
     "output_type": "execute_result"
    }
   ],
   "source": [
    "# Pangram\n",
    "pangrams(\"We promptly judged antique ivory buckles for the next prize\") , pangrams(\"We promptly judged antique ivory buckles for the prize\") # Not Pangram"
   ]
  },
  {
   "cell_type": "markdown",
   "metadata": {},
   "source": [
    "### Challenge No: 10 **Permuting Two Arrays**(Easy): \n",
    "- https://www.hackerrank.com/challenges/one-month-preparation-kit-two-arrays/problem?isFullScreen=true&h_l=interview&playlist_slugs%5B%5D=preparation-kits&playlist_slugs%5B%5D=one-month-preparation-kit&playlist_slugs%5B%5D=one-month-week-one\n",
    "- There are two n-element arrays of integers, A and B. Permute them into some A’ and B’ such that the relation A’[i] + B’[i] >= k holds for all i  where 0 <= i < n.\n",
    "here will be q queries consisting of A,B  and k . For each query, return YES if some permutation A’, B’,  satisfying the relation exists. Otherwise, return NO."
   ]
  },
  {
   "cell_type": "code",
   "execution_count": 48,
   "metadata": {},
   "outputs": [
    {
     "data": {
      "text/plain": [
       "('YES', 'NO')"
      ]
     },
     "execution_count": 48,
     "metadata": {},
     "output_type": "execute_result"
    }
   ],
   "source": [
    "def twoArrays(A, B, k):\n",
    "    A.sort()  \n",
    "    B.sort(reverse=True) \n",
    "    \n",
    "    for i in range(len(A)):\n",
    "        if A[i] + B[i] < k:\n",
    "            return \"NO\"\n",
    "    \n",
    "    return \"YES\"\n",
    "    \n",
    "A = [1,2,2,1]\n",
    "B = [3,3,3,4]\n",
    "k = 5\n",
    "C = [0,1]\n",
    "D = [0,2]\n",
    "twoArrays(C,D,1), twoArrays(A,B,k)"
   ]
  },
  {
   "cell_type": "markdown",
   "metadata": {},
   "source": [
    "### Challenge No: 11 **Subarray Division 1**(Easy): \n",
    "- https://www.hackerrank.com/challenges/one-month-preparation-kit-the-birthday-bar/problem?isFullScreen=true&h_l=interview&playlist_slugs%5B%5D=preparation-kits&playlist_slugs%5B%5D=one-month-preparation-kit&playlist_slugs%5B%5D=one-month-week-one\n",
    "- Two children, Lily and Ron, want to share a chocolate bar. Each of the squares has an integer on it.\n",
    "\n",
    "Lily decides to share a contiguous segment of the bar selected such that:\n",
    "\n",
    "The length of the segment matches Ron's birth month, and,\n",
    "The sum of the integers on the squares is equal to his birth day.\n",
    "\n",
    "- Ex: s = [2,2,1,3,2]\n",
    "m = 2 d = 4  answer arrays [2,2] and [1,3]"
   ]
  },
  {
   "cell_type": "code",
   "execution_count": 20,
   "metadata": {},
   "outputs": [
    {
     "data": {
      "text/plain": [
       "2"
      ]
     },
     "execution_count": 20,
     "metadata": {},
     "output_type": "execute_result"
    }
   ],
   "source": [
    "def birthday(s, d, m):\n",
    "    sub_arrays =[]\n",
    "    \n",
    "    i = 0\n",
    "    while i < len(s):\n",
    "        if (len(s[i:i+m]) == m) and (sum(s[i:i+m]) == d):\n",
    "            sub_arrays.append(s[i:i+m])\n",
    "            \n",
    "        i +=1\n",
    "    return len(sub_arrays)\n",
    "\n",
    "s = [2,2,1,3,2]\n",
    "d = 4\n",
    "m =2\n",
    "birthday(s,d,m)\n",
    "# \n"
   ]
  },
  {
   "cell_type": "markdown",
   "metadata": {},
   "source": [
    "### Challenge No: 12 **XOR Strings 2**(Easy): \n",
    "- https://www.hackerrank.com/challenges/one-month-preparation-kit-strings-xor/problem?isFullScreen=true&h_l=interview&playlist_slugs%5B%5D=preparation-kits&playlist_slugs%5B%5D=one-month-preparation-kit&playlist_slugs%5B%5D=one-month-week-one\n",
    "- the task is to debug the existing code to successfully execute all provided test files.\n",
    "- Given two strings consisting of digits 0 and 1 only, find the XOR of the two strings."
   ]
  },
  {
   "cell_type": "code",
   "execution_count": null,
   "metadata": {},
   "outputs": [],
   "source": [
    "# Original code to be debugged\n",
    "def strings_xor(s, t):\n",
    "    res = \"\"\n",
    "    for i in range(len(s)):\n",
    "        if s[i] = t[i]: \n",
    "            res = '0'; \n",
    "        else:\n",
    "            res = '1';\n",
    "\n",
    "    return res\n",
    "\n",
    "s = input() "
   ]
  },
  {
   "cell_type": "code",
   "execution_count": 32,
   "metadata": {},
   "outputs": [
    {
     "data": {
      "text/plain": [
       "'10001'"
      ]
     },
     "execution_count": 32,
     "metadata": {},
     "output_type": "execute_result"
    }
   ],
   "source": [
    "# debugged code\n",
    "def strings_xor(s, t):\n",
    "    res = \"\"\n",
    "    for i in range(len(s)):\n",
    "        if s[i] == t[i]: # equality operator (==) should be used instead of assigning operator (=)\n",
    "            res += \"0\"  # semicolon in python causes syntax error\n",
    "        else:\n",
    "            res += '1'# semicolon in python causes syntax error\n",
    "\n",
    "    return res\n",
    "\n",
    "s = \"10100\"\n",
    "t = \"00101\"\n",
    "strings_xor(s, t)"
   ]
  },
  {
   "cell_type": "code",
   "execution_count": 26,
   "metadata": {},
   "outputs": [
    {
     "data": {
      "text/plain": [
       "'00101'"
      ]
     },
     "execution_count": 26,
     "metadata": {},
     "output_type": "execute_result"
    }
   ],
   "source": [
    "a = \"10101\"\n",
    "b = \"00101\"\n",
    "a and b # 10000"
   ]
  }
 ],
 "metadata": {
  "kernelspec": {
   "display_name": "Python 3",
   "language": "python",
   "name": "python3"
  },
  "language_info": {
   "codemirror_mode": {
    "name": "ipython",
    "version": 3
   },
   "file_extension": ".py",
   "mimetype": "text/x-python",
   "name": "python",
   "nbconvert_exporter": "python",
   "pygments_lexer": "ipython3",
   "version": "3.11.5"
  },
  "orig_nbformat": 4
 },
 "nbformat": 4,
 "nbformat_minor": 2
}
