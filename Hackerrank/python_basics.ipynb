{
 "cells": [
  {
   "cell_type": "markdown",
   "metadata": {},
   "source": [
    "### Challenge No: 1 **Plus Minus**(Easy): \n",
    "- https://www.hackerrank.com/challenges/one-month-preparation-kit-plus-minus/problem?isFullScreen=true&h_l=interview&playlist_slugs%5B%5D=preparation-kits&playlist_slugs%5B%5D=one-month-preparation-kit&playlist_slugs%5B%5D=one-month-week-one\n",
    "- Given an array of integers, calculate the ratios of its elements that are positive, negative, and zero. Print the decimal value of each fraction on a new line with  places after the decimal.\n",
    "- Note: This challenge introduces precision problems. The test cases are scaled to six decimal places, though answers with absolute error of up  10 ** -4  are acceptable"
   ]
  },
  {
   "cell_type": "code",
   "execution_count": 18,
   "metadata": {},
   "outputs": [],
   "source": [
    "def plusMinus(arr):\n",
    "\n",
    "    count_pos = 0\n",
    "    count_neg = 0\n",
    "    count_zero = 0\n",
    "    for element in arr:\n",
    "        if element > 0:\n",
    "            count_pos += 1\n",
    "        elif element < 0:\n",
    "            count_neg += 1\n",
    "        else:\n",
    "            count_zero += 1\n",
    "    \n",
    "    \n",
    "\n",
    "    print(f\"{(count_pos/len(arr)):.6f}\")\n",
    "    print(f\"{(count_neg/len(arr)):.6f}\")\n",
    "    print(f\"{(count_zero/len(arr)):.6f}\")\n",
    "\n"
   ]
  },
  {
   "cell_type": "code",
   "execution_count": 19,
   "metadata": {},
   "outputs": [
    {
     "name": "stdout",
     "output_type": "stream",
     "text": [
      "0.400000\n",
      "0.400000\n",
      "0.200000\n"
     ]
    }
   ],
   "source": [
    "plusMinus([1,1,0,-1,-1])"
   ]
  }
 ],
 "metadata": {
  "kernelspec": {
   "display_name": "Python 3",
   "language": "python",
   "name": "python3"
  },
  "language_info": {
   "codemirror_mode": {
    "name": "ipython",
    "version": 3
   },
   "file_extension": ".py",
   "mimetype": "text/x-python",
   "name": "python",
   "nbconvert_exporter": "python",
   "pygments_lexer": "ipython3",
   "version": "3.11.5"
  },
  "orig_nbformat": 4
 },
 "nbformat": 4,
 "nbformat_minor": 2
}
