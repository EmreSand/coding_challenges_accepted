{
 "cells": [
  {
   "cell_type": "markdown",
   "metadata": {},
   "source": [
    "### Challenge No: 1 **Plus Minus**(Easy): \n",
    "- https://www.hackerrank.com/challenges/one-month-preparation-kit-plus-minus/problem?isFullScreen=true&h_l=interview&playlist_slugs%5B%5D=preparation-kits&playlist_slugs%5B%5D=one-month-preparation-kit&playlist_slugs%5B%5D=one-month-week-one\n",
    "- Given an array of integers, calculate the ratios of its elements that are positive, negative, and zero. Print the decimal value of each fraction on a new line with  places after the decimal.\n",
    "- Note: This challenge introduces precision problems. The test cases are scaled to six decimal places, though answers with absolute error of up  10 ** -4  are acceptable"
   ]
  },
  {
   "cell_type": "code",
   "execution_count": 18,
   "metadata": {},
   "outputs": [],
   "source": [
    "def plusMinus(arr):\n",
    "\n",
    "    count_pos = 0\n",
    "    count_neg = 0\n",
    "    count_zero = 0\n",
    "    for element in arr:\n",
    "        if element > 0:\n",
    "            count_pos += 1\n",
    "        elif element < 0:\n",
    "            count_neg += 1\n",
    "        else:\n",
    "            count_zero += 1\n",
    "    \n",
    "    \n",
    "\n",
    "    print(f\"{(count_pos/len(arr)):.6f}\")\n",
    "    print(f\"{(count_neg/len(arr)):.6f}\")\n",
    "    print(f\"{(count_zero/len(arr)):.6f}\")\n",
    "\n"
   ]
  },
  {
   "cell_type": "code",
   "execution_count": 19,
   "metadata": {},
   "outputs": [
    {
     "name": "stdout",
     "output_type": "stream",
     "text": [
      "0.400000\n",
      "0.400000\n",
      "0.200000\n"
     ]
    }
   ],
   "source": [
    "plusMinus([1,1,0,-1,-1])"
   ]
  },
  {
   "cell_type": "markdown",
   "metadata": {},
   "source": [
    "### Challenge No: 2 **MiniMaxSum**(Easy): \n",
    "- https://www.hackerrank.com/challenges/one-month-preparation-kit-mini-max-sum/problem?isFullScreen=true&h_l=interview&playlist_slugs%5B%5D=preparation-kits&playlist_slugs%5B%5D=one-month-preparation-kit&playlist_slugs%5B%5D=one-month-week-one\n",
    "- Given five positive integers, find the minimum and maximum values that can be calculated by summing exactly four of the five integers. Then print the respective minimum and maximum values as a single line of two space-separated long integers."
   ]
  },
  {
   "cell_type": "code",
   "execution_count": 1,
   "metadata": {},
   "outputs": [],
   "source": [
    "def miniMaxSum(arr):\n",
    "    print(f\"{sum(arr) - max(arr)} {sum(arr) - min(arr)}\") \n",
    "\n"
   ]
  },
  {
   "cell_type": "code",
   "execution_count": 2,
   "metadata": {},
   "outputs": [
    {
     "name": "stdout",
     "output_type": "stream",
     "text": [
      "16  24\n"
     ]
    }
   ],
   "source": [
    "arr =[1,3,5,7,9]\n",
    "miniMaxSum(arr)"
   ]
  },
  {
   "cell_type": "markdown",
   "metadata": {},
   "source": [
    "### Challenge No: 3 **Time Conversion**(Easy): \n",
    "- https://www.hackerrank.com/challenges/one-month-preparation-kit-time-conversion/problem?isFullScreen=true&h_l=interview&playlist_slugs%5B%5D=preparation-kits&playlist_slugs%5B%5D=one-month-preparation-kit&playlist_slugs%5B%5D=one-month-week-one\n",
    "- Given a time in -hour AM/PM format, convert it to military (24-hour) time.\n",
    "  Note: - 12:00:00AM on a 12-hour clock is 00:00:00 on a 24-hour clock.\n",
    "- 12:00:00PM on a 12-hour clock is 12:00:00 on a 24-hour clock.\n"
   ]
  },
  {
   "cell_type": "code",
   "execution_count": 54,
   "metadata": {},
   "outputs": [],
   "source": [
    "def timeConversion(s):\n",
    "    hour = s[:2]\n",
    "    if \"PM\" in s:\n",
    "        if hour != \"12\":\n",
    "            hour = str(int(hour)+12)\n",
    "    elif hour == \"12\":\n",
    "        hour = \"00\"\n",
    "\n",
    "    return hour + s[2:-2]\n",
    "       "
   ]
  },
  {
   "cell_type": "code",
   "execution_count": 55,
   "metadata": {},
   "outputs": [
    {
     "data": {
      "text/plain": [
       "('12:01:00', '00:01:00', '23:01:00', '01:01:00')"
      ]
     },
     "execution_count": 55,
     "metadata": {},
     "output_type": "execute_result"
    }
   ],
   "source": [
    "s1 = \"12:01:00PM\"\n",
    "s2 = \"12:01:00AM\"\n",
    "s3 = \"11:01:00PM\"\n",
    "s4 =\"01:01:00AM\"\n",
    "timeConversion(s1), timeConversion(s2), timeConversion(s3), timeConversion(s4)"
   ]
  },
  {
   "cell_type": "markdown",
   "metadata": {},
   "source": [
    "### Challenge No: 4 **Sparse Arrays**(Easy): \n",
    "- https://www.hackerrank.com/challenges/one-month-preparation-kit-sparse-arrays/problem?isFullScreen=true&h_l=interview&playlist_slugs%5B%5D=preparation-kits&playlist_slugs%5B%5D=one-month-preparation-kit&playlist_slugs%5B%5D=one-month-week-one\n",
    "- There is a collection of input strings and a collection of query strings. For each query string, determine how many times it occurs in the list of input strings. Return an array of the results.\n",
    "\n"
   ]
  },
  {
   "cell_type": "code",
   "execution_count": 57,
   "metadata": {},
   "outputs": [
    {
     "data": {
      "text/plain": [
       "[2, 1, 1]"
      ]
     },
     "execution_count": 57,
     "metadata": {},
     "output_type": "execute_result"
    }
   ],
   "source": [
    "def matchingStrings(strings, queries):\n",
    "    return [strings.count(text) for text in queries]\n",
    "matchingStrings([\"ab\", \"ab\", \"abc\", \"bc\"], [\"ab\", \"abc\", \"bc\"])\n",
    "    "
   ]
  },
  {
   "cell_type": "markdown",
   "metadata": {},
   "source": [
    "### Challenge No: 5 **Lonely Integer**(Easy): \n",
    "- https://www.hackerrank.com/challenges/one-month-preparation-kit-lonely-integer/problem?isFullScreen=true&h_l=interview&playlist_slugs%5B%5D=preparation-kits&playlist_slugs%5B%5D=one-month-preparation-kit&playlist_slugs%5B%5D=one-month-week-one\n",
    "- Given an array of integers, where all elements but one occur twice, find the unique element."
   ]
  },
  {
   "cell_type": "code",
   "execution_count": 59,
   "metadata": {},
   "outputs": [
    {
     "data": {
      "text/plain": [
       "4"
      ]
     },
     "execution_count": 59,
     "metadata": {},
     "output_type": "execute_result"
    }
   ],
   "source": [
    "def lonelyinteger(a):\n",
    "    for element in a:\n",
    "        if a.count(element) == 1:\n",
    "            return element\n",
    "lonelyinteger([1,2,3,4,3,2,1])"
   ]
  },
  {
   "cell_type": "markdown",
   "metadata": {},
   "source": [
    "### Challenge No: 6 **Flipping Bits**(Easy): \n",
    "- https://www.hackerrank.com/challenges/one-month-preparation-kit-flipping-bits/problem?isFullScreen=true&h_l=interview&playlist_slugs%5B%5D=preparation-kits&playlist_slugs%5B%5D=one-month-preparation-kit&playlist_slugs%5B%5D=one-month-week-one\n",
    "- You will be given a list of 32 bit unsigned integers. Flip all the bits (1 --> 0 0-->1 and ) and return the result as an unsigned integer.\n"
   ]
  },
  {
   "cell_type": "code",
   "execution_count": 90,
   "metadata": {},
   "outputs": [
    {
     "name": "stdout",
     "output_type": "stream",
     "text": [
      "01111111111111111111111111111101\n"
     ]
    },
    {
     "data": {
      "text/plain": [
       "2147483645"
      ]
     },
     "execution_count": 90,
     "metadata": {},
     "output_type": "execute_result"
    }
   ],
   "source": [
    "def flippingBits(n):\n",
    "    temp_binary = \"{:032b}\".format(n)\n",
    "    flipped_binary = \"\"\n",
    "\n",
    "    for digit in temp_binary:\n",
    "        if digit == \"0\":\n",
    "            flipped_binary += \"1\"\n",
    "\n",
    "        else:\n",
    "            flipped_binary += \"0\"\n",
    "    flipped_int = int(flipped_binary,2)\n",
    "\n",
    "    return flipped_int\n",
    "\n",
    "flippingBits(-2)"
   ]
  },
  {
   "cell_type": "markdown",
   "metadata": {},
   "source": [
    "### Challenge No: 7 **Diagonal Difference**(Easy): \n",
    "- https://www.hackerrank.com/challenges/one-month-preparation-kit-diagonal-difference/problem?isFullScreen=true&h_l=interview&playlist_slugs%5B%5D=preparation-kits&playlist_slugs%5B%5D=one-month-preparation-kit&playlist_slugs%5B%5D=one-month-week-one\n",
    "- Given a square matrix, calculate the absolute difference between the sums of its diagonals."
   ]
  },
  {
   "cell_type": "code",
   "execution_count": 89,
   "metadata": {},
   "outputs": [],
   "source": [
    "def diagonalDifference(arr):\n",
    "    n = len(arr)\n",
    "    left_to_right_sum = 0\n",
    "    right_to_left_sum = 0\n",
    "\n",
    "    for i in range(n):\n",
    "        left_to_right_sum += arr[i][i]\n",
    "        right_to_left_sum += arr[i][n - i - 1]\n",
    "\n",
    "    return abs(left_to_right_sum - right_to_left_sum)\n"
   ]
  },
  {
   "cell_type": "code",
   "execution_count": 91,
   "metadata": {},
   "outputs": [
    {
     "data": {
      "text/plain": [
       "2"
      ]
     },
     "execution_count": 91,
     "metadata": {},
     "output_type": "execute_result"
    }
   ],
   "source": [
    "import numpy as np\n",
    "abc = np.array([[1,2,3],\n",
    "               [4,5,6],\n",
    "               [9,8,9]])\n",
    "diagonalDifference(abc)"
   ]
  }
 ],
 "metadata": {
  "kernelspec": {
   "display_name": "Python 3",
   "language": "python",
   "name": "python3"
  },
  "language_info": {
   "codemirror_mode": {
    "name": "ipython",
    "version": 3
   },
   "file_extension": ".py",
   "mimetype": "text/x-python",
   "name": "python",
   "nbconvert_exporter": "python",
   "pygments_lexer": "ipython3",
   "version": "3.11.5"
  },
  "orig_nbformat": 4
 },
 "nbformat": 4,
 "nbformat_minor": 2
}
