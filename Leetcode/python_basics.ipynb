{
 "cells": [
  {
   "cell_type": "markdown",
   "metadata": {},
   "source": [
    "# Python Basics etc."
   ]
  },
  {
   "cell_type": "markdown",
   "metadata": {},
   "source": [
    "### Challenge No: 1 **Two Sum**(Easy): \n",
    "- https://leetcode.com/problems/two-sum/\n",
    "- Given an array of integers nums and an integer target, return indices of the two numbers such that they add up to target.\n",
    "\n",
    "You may assume that each input would have exactly one solution, and you may not use the same element twice."
   ]
  },
  {
   "cell_type": "code",
   "execution_count": 9,
   "metadata": {},
   "outputs": [],
   "source": [
    "def twoSum(nums: list[int], target: int) -> list[int]:\n",
    "            \n",
    "        for i in range(len(nums)):\n",
    "            for j in range(len(nums)):\n",
    "                if i != j and nums[i] + nums[j] == target:\n",
    "                    return [i,j]"
   ]
  },
  {
   "cell_type": "code",
   "execution_count": 10,
   "metadata": {},
   "outputs": [
    {
     "data": {
      "text/plain": [
       "[0, 1]"
      ]
     },
     "execution_count": 10,
     "metadata": {},
     "output_type": "execute_result"
    }
   ],
   "source": [
    "nums = [2, 7, 11, 15] \n",
    "target = 9\n",
    "twoSum(nums, target)"
   ]
  },
  {
   "cell_type": "markdown",
   "metadata": {},
   "source": [
    "### Challenge No: 2 **Remove Letter to Equalize Frequency**(Easy): \n",
    "- https://leetcode.com/problems/remove-letter-to-equalize-frequency/\n",
    "- You are given a 0-indexed string word, consisting of lowercase English letters. You need to select one index and remove the letter at that index from word so that the frequency of every letter present in word is equal.\n",
    "\n",
    "Return true if it is possible to remove one letter so that the frequency of all letters in word are equal, and false otherwise."
   ]
  },
  {
   "cell_type": "code",
   "execution_count": 18,
   "metadata": {},
   "outputs": [],
   "source": [
    "def equalFrequency(word: str) -> bool:\n",
    "        \n",
    "        char_count = [word.count(char) for char in set(word)]\n",
    "        for i in range(len(char_count)):\n",
    "            temp_freq = char_count[:]\n",
    "            temp_freq[i] -= 1  \n",
    "            temp_freq = [freq for freq in temp_freq if freq > 0] \n",
    "        \n",
    "        \n",
    "            if len(set(temp_freq)) == 1:\n",
    "                return True\n",
    "        \n",
    "        return False"
   ]
  },
  {
   "cell_type": "code",
   "execution_count": 19,
   "metadata": {},
   "outputs": [
    {
     "name": "stdout",
     "output_type": "stream",
     "text": [
      "3 3\n"
     ]
    },
    {
     "data": {
      "text/plain": [
       "False"
      ]
     },
     "execution_count": 19,
     "metadata": {},
     "output_type": "execute_result"
    }
   ],
   "source": [
    "equalFrequency(\"abc\")"
   ]
  },
  {
   "cell_type": "markdown",
   "metadata": {},
   "source": [
    "### Challenge No: 3 **Distribute Money to Maximum Children**(Easy): \n",
    "- https://leetcode.com/problems/distribute-money-to-maximum-children/\n",
    "- You are given an integer money denoting the amount of money (in dollars) that you have and another integer children denoting the number of children that you must distribute the money to.\n",
    "\n",
    "You have to distribute the money according to the following rules:\n",
    "\n",
    "All money must be distributed.\n",
    "Everyone must receive at least 1 dollar.\n",
    "Nobody receives 4 dollars."
   ]
  },
  {
   "cell_type": "code",
   "execution_count": 8,
   "metadata": {},
   "outputs": [],
   "source": [
    "def distMoney(money: int, children: int) -> int:\n",
    "\n",
    "     if money < children:\n",
    "         return -1\n",
    "     count = 0 \n",
    "     for i in range(1,children+1):\n",
    "          remain_money = money - 8       # starting with current child getting 8$\n",
    "          remain_children = children - i\n",
    "          if remain_money >= remain_children: \n",
    "               money = remain_money \n",
    "               count += 1 \n",
    "          else: \n",
    "               remain_children = children - i + 1                                                \n",
    "               if remain_children == 1 and money == 4: # In order to omit distribution with 4$\n",
    "                   count -= 1\n",
    "               money = 0\n",
    "               break\n",
    "     if money > 0:       # if there is remainder of money\n",
    "          count -= 1\n",
    "     return count"
   ]
  },
  {
   "cell_type": "code",
   "execution_count": 9,
   "metadata": {},
   "outputs": [
    {
     "data": {
      "text/plain": [
       "(1, 2, -1, 0, 0, 0, 1, 1)"
      ]
     },
     "execution_count": 9,
     "metadata": {},
     "output_type": "execute_result"
    }
   ],
   "source": [
    "distMoney(20,3), distMoney(16,2), distMoney(3,4), distMoney(4,2), distMoney(8,5), distMoney(9,3), distMoney(9,2), distMoney(17,2)\n"
   ]
  },
  {
   "cell_type": "markdown",
   "metadata": {},
   "source": [
    "### Challenge No: 4 **Palindrome Number**(Easy):\n",
    "- https://leetcode.com/problems/palindrome-number/\n",
    "- Given an integer x, return true if x is a  palindrome, and false otherwise."
   ]
  },
  {
   "cell_type": "code",
   "execution_count": 64,
   "metadata": {},
   "outputs": [],
   "source": [
    "def isPalindrome(x: int) -> bool:\n",
    "    \n",
    "    if x >= 0:\n",
    "        if x < 10:\n",
    "            return True\n",
    "        elif x == 10: # here \n",
    "            return False\n",
    "        else:\n",
    "            div = 0\n",
    "            digits = []\n",
    "            while x > 10:\n",
    "                div = x // 10\n",
    "                digits.append(x % 10)\n",
    "                x = div\n",
    "            digits.append(x % 10) \n",
    "            midpoint = (len(digits) // 2)\n",
    "            print([digits[i] for i in range(midpoint)])\n",
    "            return all(digits[i] == digits[len(digits)-i-1] for i in range(midpoint)) # here\n",
    "\n",
    "            \n",
    "    else:\n",
    "        return False\n"
   ]
  },
  {
   "cell_type": "code",
   "execution_count": 15,
   "metadata": {},
   "outputs": [],
   "source": [
    "def isPalindrome(x: int) -> bool:\n",
    "    \n",
    "    if x >= 0:\n",
    "        if x < 10:\n",
    "            return True\n",
    "        else:\n",
    "            div = 0\n",
    "            digits = []\n",
    "            while x >= 10:\n",
    "                div = x // 10\n",
    "                digits.append(x % 10)\n",
    "                x = div\n",
    "            digits.append(x) # here\n",
    "            midpoint = (len(digits) // 2)\n",
    "            \n",
    "            return all(digits[i] == digits[-1-i] for i in range(midpoint)) # here\n",
    "\n",
    "            \n",
    "    else:\n",
    "        return False\n"
   ]
  },
  {
   "cell_type": "code",
   "execution_count": 16,
   "metadata": {},
   "outputs": [
    {
     "data": {
      "text/plain": [
       "(True, True, False, False, False, False)"
      ]
     },
     "execution_count": 16,
     "metadata": {},
     "output_type": "execute_result"
    }
   ],
   "source": [
    "isPalindrome(121), isPalindrome(4224), isPalindrome(12), isPalindrome(-121), isPalindrome(123) , isPalindrome(100)  \n"
   ]
  },
  {
   "cell_type": "markdown",
   "metadata": {},
   "source": [
    "### Challenge No: 5 **Combination Sum IV** (medium): \n",
    "- https://leetcode.com/problems/combination-sum-iv/?envType=daily-question&envId=2023-09-09\n",
    "- Given an array of distinct integers nums and a target integer target, return the number of possible combinations that add up to target."
   ]
  },
  {
   "cell_type": "code",
   "execution_count": null,
   "metadata": {},
   "outputs": [],
   "source": [
    "def combinationSum4(nums, target):\n",
    "    \n",
    "    dp = [0] * (target + 1)\n",
    "    \n",
    "    dp[0] = 1\n",
    "    \n",
    "    \n",
    "    for i in range(1, target + 1):\n",
    "        for num in nums:\n",
    "            if i >= num:\n",
    "                dp[i] += dp[i - num]\n",
    "    \n",
    "   \n",
    "    return dp[target]\n",
    "\n"
   ]
  },
  {
   "cell_type": "code",
   "execution_count": null,
   "metadata": {},
   "outputs": [
    {
     "name": "stdout",
     "output_type": "stream",
     "text": [
      "6\n"
     ]
    }
   ],
   "source": [
    "nums = [6, 4, 3]\n",
    "target = 12 \n",
    "result = combinationSum4(nums, target)\n",
    "print(result)  "
   ]
  }
 ],
 "metadata": {
  "kernelspec": {
   "display_name": "Python 3",
   "language": "python",
   "name": "python3"
  },
  "language_info": {
   "codemirror_mode": {
    "name": "ipython",
    "version": 3
   },
   "file_extension": ".py",
   "mimetype": "text/x-python",
   "name": "python",
   "nbconvert_exporter": "python",
   "pygments_lexer": "ipython3",
   "version": "3.11.5"
  },
  "orig_nbformat": 4
 },
 "nbformat": 4,
 "nbformat_minor": 2
}
