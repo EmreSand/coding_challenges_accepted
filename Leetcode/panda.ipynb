{
 "cells": [
  {
   "cell_type": "markdown",
   "metadata": {},
   "source": [
    "# Python and pandas library exercises"
   ]
  },
  {
   "cell_type": "code",
   "execution_count": null,
   "metadata": {},
   "outputs": [],
   "source": [
    "# Imports\n",
    "import pandas as pd \n",
    "import numpy as np\n"
   ]
  },
  {
   "cell_type": "markdown",
   "metadata": {},
   "source": [
    "### Challenge No:1 **Binary Search**: \n",
    "- Given an array of integers which is sorted in ascending order, and an integer target, write a function to search target in nums. If target exists, then return its index. Otherwise, return -1."
   ]
  },
  {
   "cell_type": "code",
   "execution_count": null,
   "metadata": {},
   "outputs": [],
   "source": [
    "class Solution:\n",
    "    def search(self, nums: List[int], target: int) -> int:\n",
    "        \"\"\"\n",
    "        Given an array of integers, finding target numbers index\n",
    "        \"\"\"\n",
    "        \n",
    "        lo = 0\n",
    "        hi = len(nums)-1\n",
    "        while lo <= hi:\n",
    "            mid = (lo+hi)//2\n",
    "            result = nums[mid]\n",
    "            if result == target: \n",
    "                return mid\n",
    "            elif result < target:\n",
    "                lo = mid+1\n",
    "            else:\n",
    "                hi = mid-1\n",
    "        return -1"
   ]
  },
  {
   "cell_type": "markdown",
   "metadata": {},
   "source": [
    "### Challenge No:1 **Invalid Tweets**: \n",
    "- https://leetcode.com/problems/invalid-tweets/\n",
    "- A method to find the IDs of the invalid tweets. The tweet is invalid if the number of characters used in the content of the tweet is strictly greater than 15."
   ]
  },
  {
   "cell_type": "code",
   "execution_count": null,
   "metadata": {},
   "outputs": [],
   "source": [
    "def invalid_tweets(tweets: pd.DataFrame) -> pd.DataFrame:\n",
    "    \"\"\"\n",
    "    Given a DataFrame of tweets find the IDs of the invalid tweets.\n",
    "    \"\"\"\n",
    "    long_tweets = tweets[tweets[\"content\"].str.len() > 15]\n",
    "    return long_tweets[[\"tweet_id\"]]"
   ]
  },
  {
   "cell_type": "markdown",
   "metadata": {},
   "source": [
    "### Challenge No:2 **Recyclable and Low Fat Products**: \n",
    "- https://leetcode.com/problems/recyclable-and-low-fat-products/ \n",
    "- A method to find the ids of products that are both low fat and recyclable.\n"
   ]
  },
  {
   "cell_type": "code",
   "execution_count": null,
   "metadata": {},
   "outputs": [],
   "source": [
    "def find_products(products: pd.DataFrame) -> pd.DataFrame:\n",
    "    \"\"\" Given Products DataFrame, filtered according to  being low fat and recyclable (Y)\n",
    "    \"\"\"\n",
    "\n",
    "    rec_lf_products = products[(products[\"low_fats\"] == \"Y\") & (products[\"recyclable\"] == \"Y\")]\n",
    "\n",
    "    return rec_lf_products[[\"product_id\"]]"
   ]
  },
  {
   "cell_type": "markdown",
   "metadata": {},
   "source": [
    "### Challenge No:3 **Big Countries**: \n",
    "- https://leetcode.com/problems/big-countries/\n",
    "- A method to filter  data of countries"
   ]
  },
  {
   "cell_type": "code",
   "execution_count": null,
   "metadata": {},
   "outputs": [],
   "source": [
    "def big_countries(world: pd.DataFrame) -> pd.DataFrame:\n",
    "    \"\"\"Given a DataFrame, filtering according to size or population data\n",
    "    \"\"\"\n",
    "\n",
    "    big_countries_data = world[(world[\"area\"] >= 3000000) | (world[\"population\"] >= 25000000)]\n",
    "\n",
    "    return big_countries_data[[\"name\", \"population\", \"area\"]]"
   ]
  },
  {
   "cell_type": "markdown",
   "metadata": {},
   "source": [
    "### Challenge No:3 **Big Countries**: "
   ]
  }
 ],
 "metadata": {
  "kernelspec": {
   "display_name": "Python 3",
   "language": "python",
   "name": "python3"
  },
  "language_info": {
   "name": "python",
   "version": "3.11.5"
  },
  "orig_nbformat": 4
 },
 "nbformat": 4,
 "nbformat_minor": 2
}
