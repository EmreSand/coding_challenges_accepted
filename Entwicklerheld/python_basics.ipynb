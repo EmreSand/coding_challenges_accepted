{
 "cells": [
  {
   "cell_type": "markdown",
   "metadata": {},
   "source": [
    "# Python Basics etc."
   ]
  },
  {
   "cell_type": "markdown",
   "metadata": {},
   "source": [
    "### Challenge No:1 **FizzBuzz**: \n",
    "https://platform.entwicklerheld.de/challenge/cc4d10a7-e4ec-4d1e-b613-5ce7d5b11d9e/task/0ef7ada0-068a-4c75-87c2-ec08e8d15676/edit\n",
    "- given is a number function will return \"Fizz\", \"Buzz\"\n",
    "    \"FizzBuzz\" or itself according to its divisibility by 3 and/or 5."
   ]
  },
  {
   "cell_type": "code",
   "execution_count": 2,
   "metadata": {},
   "outputs": [],
   "source": [
    "def fizzbuzz(number: int):\n",
    "    \"\"\" given is a number function will return \"Fizz\", \"Buzz\"\n",
    "    \"FizzBuzz\" or itself according to its divisibility by 3 and/or 5.\n",
    "    \"\"\"\n",
    "    if number % 3 == 0 and number % 5 == 0:\n",
    "        return \"fizzbuzz\"\n",
    "    elif number %3 ==0:\n",
    "        return \"fizz\"\n",
    "    elif number % 5 ==0:\n",
    "        return \"buzz\"\n",
    "    else:\n",
    "        return number\n"
   ]
  },
  {
   "cell_type": "code",
   "execution_count": 3,
   "metadata": {},
   "outputs": [
    {
     "data": {
      "text/plain": [
       "('fizzbuzz', 'fizz', 'buzz', 2)"
      ]
     },
     "execution_count": 3,
     "metadata": {},
     "output_type": "execute_result"
    }
   ],
   "source": [
    "fizzbuzz(15), fizzbuzz(9), fizzbuzz(25), fizzbuzz(2)"
   ]
  },
  {
   "cell_type": "markdown",
   "metadata": {},
   "source": [
    "### Challenge No:2 **Pascal's triangle**:\n",
    "- https://platform.entwicklerheld.de/challenge/pascals-triangle?technology=python\n",
    "- A method that returns the n-th row of Pascal's Triangle."
   ]
  },
  {
   "cell_type": "code",
   "execution_count": 11,
   "metadata": {},
   "outputs": [],
   "source": [
    "def pascal_triangle(row_number: int):\n",
    "    \"\"\"\n",
    "    Generate a row of Pascal's Triangle up to the given row number.\n",
    "    \"\"\"\n",
    "    pascalt_row_list = []\n",
    "    for i in range(row_number + 1):\n",
    "        row = [1]\n",
    "        if i > 0:\n",
    "            for j in range(1,i):\n",
    "                previous_row = pascalt_row_list[i-1]\n",
    "                row.append(previous_row[j-1] + previous_row[j])\n",
    "            row.append(1)\n",
    "        pascalt_row_list.append(row)\n",
    "\n",
    "    return pascalt_row_list[row_number]"
   ]
  },
  {
   "cell_type": "code",
   "execution_count": 12,
   "metadata": {},
   "outputs": [
    {
     "data": {
      "text/plain": [
       "([1], [1, 1], [1, 2, 1], [1, 5, 10, 10, 5, 1])"
      ]
     },
     "execution_count": 12,
     "metadata": {},
     "output_type": "execute_result"
    }
   ],
   "source": [
    "pascal_triangle(0), pascal_triangle(1), pascal_triangle(2), pascal_triangle(5)"
   ]
  },
  {
   "cell_type": "markdown",
   "metadata": {},
   "source": [
    "### Challenge No:3 **Flatten Array**\n",
    "- https://platform.entwicklerheld.de/challenge/flatten-arrays?technology=python\n",
    "- A method to flatten nested arrays; Given is a nested list containing integers and sublists, you should flatten it to a single-level list by removing any nesting and remove all None elements. "
   ]
  },
  {
   "cell_type": "code",
   "execution_count": 9,
   "metadata": {},
   "outputs": [],
   "source": [
    "def flatten(arr: list) -> list:\n",
    "    flattened_arr = []\n",
    "    for element in arr:\n",
    "        if isinstance(element, list):\n",
    "            flattened_arr.extend(flatten(element))\n",
    "        elif element is not None:\n",
    "            flattened_arr.append(element)\n",
    "    return flattened_arr"
   ]
  },
  {
   "cell_type": "code",
   "execution_count": 11,
   "metadata": {},
   "outputs": [
    {
     "data": {
      "text/plain": [
       "[1, 2, 3, 4, 5, 6, 7, 8]"
      ]
     },
     "execution_count": 11,
     "metadata": {},
     "output_type": "execute_result"
    }
   ],
   "source": [
    "flatten([0, 2, None, [[2, 3], 8, 100, 4, [[[50]]]], -2])\n",
    "flatten([1, [2, 3, 4, 5, 6, 7], 8])"
   ]
  }
 ],
 "metadata": {
  "kernelspec": {
   "display_name": "Python 3",
   "language": "python",
   "name": "python3"
  },
  "language_info": {
   "codemirror_mode": {
    "name": "ipython",
    "version": 3
   },
   "file_extension": ".py",
   "mimetype": "text/x-python",
   "name": "python",
   "nbconvert_exporter": "python",
   "pygments_lexer": "ipython3",
   "version": "3.11.5"
  },
  "orig_nbformat": 4
 },
 "nbformat": 4,
 "nbformat_minor": 2
}
